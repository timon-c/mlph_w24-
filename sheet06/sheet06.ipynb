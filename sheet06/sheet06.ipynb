{
 "cells": [
  {
   "cell_type": "markdown",
   "metadata": {},
   "source": [
    "# Sheet 6\n",
    "\n",
    "## 1 Autoencoders: theory and practice"
   ]
  },
  {
   "cell_type": "code",
   "execution_count": null,
   "metadata": {},
   "outputs": [],
   "source": [
    "import torch\n",
    "import matplotlib.pyplot as plt\n",
    "\n",
    "# create 100 uniform samples from a rectangle [-2, 2] x [-1, 1]\n",
    "num_samples = 100\n",
    "data = torch.zeros(num_samples, 2)\n",
    "data[:, 0] = torch.rand(num_samples) * 4 - 2\n",
    "data[:, 1] = torch.rand(num_samples) * 2 - 1\n",
    "\n",
    "# plot the samples\n",
    "plt.scatter(data[:, 0], data[:, 1])\n",
    "plt.title(\"Input samples\")\n",
    "plt.grid(True)\n",
    "plt.show()"
   ]
  },
  {
   "cell_type": "code",
   "execution_count": null,
   "metadata": {},
   "outputs": [],
   "source": [
    "from torch.utils.data import DataLoader, TensorDataset\n",
    "\n",
    "# Prepare data loader\n",
    "dataset = TensorDataset(data, data)\n",
    "data_loader = DataLoader(dataset, batch_size=8, shuffle=True, drop_last=True)\n",
    "\n",
    "# get batched data from the data loader\n",
    "x, y = next(iter(data_loader))\n",
    "print(\"x.shape:\", x.shape)\n",
    "print(\"y.shape:\", y.shape)\n",
    "print(\"all x == y:\", torch.all(x == y).item())"
   ]
  },
  {
   "cell_type": "code",
   "execution_count": 3,
   "metadata": {},
   "outputs": [],
   "source": [
    "# TODO: define the Autoencoder architecture\n",
    "\n",
    "import torch\n",
    "from torch import nn\n",
    "import pytorch_lightning as pl\n",
    "\n",
    "class Autoencoder(nn.Module):\n",
    "    def __init__(self, hidded_channels, latent_dim=1, input_dim=2):\n",
    "        super().__init__()\n",
    "\n",
    "        # TODO: implement the encoder and decoder\n",
    "        \n",
    "\n",
    "    def forward(self, x):\n",
    "        x = self.encoder(x)\n",
    "        x = self.decoder(x)\n",
    "        return x\n",
    "\n",
    "\n",
    "class AutoencoderModule(pl.LightningModule):\n",
    "    def __init__(self, **model_kwargs):\n",
    "        super().__init__()\n",
    "        self.autoencoder = Autoencoder(**model_kwargs)\n",
    "        self.loss_curve = []\n",
    "\n",
    "    def forward(self, x):\n",
    "        return self.autoencoder(x)\n",
    "\n",
    "    def configure_optimizers(self):\n",
    "        # as default use Adam optimizer:\n",
    "        optimizer = torch.optim.Adam(self.parameters())\n",
    "\n",
    "        return optimizer\n",
    "    \n",
    "    def on_train_start(self):\n",
    "        self.loss_curve = []\n",
    "        return super().on_train_start()\n",
    "\n",
    "    def training_step(self, batch):\n",
    "        x, _ = batch\n",
    "        x_hat = self.autoencoder(x)\n",
    "        loss = nn.MSELoss()(x_hat, x)\n",
    "        self.loss_curve.append(loss.item())\n",
    "        return loss"
   ]
  },
  {
   "cell_type": "code",
   "execution_count": null,
   "metadata": {},
   "outputs": [],
   "source": [
    "# start the training using a PyTorch Lightning Trainer\n",
    "trainer = pl.Trainer(max_epochs=1000, enable_checkpointing=False)\n",
    "\n",
    "autoencoder_module = AutoencoderModule()  # TODO: specify the model here\n",
    "print(\"Model overview:\", autoencoder_module)\n",
    "\n",
    "trainer.fit(autoencoder_module, data_loader)"
   ]
  }
 ],
 "metadata": {
  "kernelspec": {
   "display_name": "Python 3",
   "language": "python",
   "name": "python3"
  },
  "language_info": {
   "codemirror_mode": {
    "name": "ipython",
    "version": 3
   },
   "file_extension": ".py",
   "mimetype": "text/x-python",
   "name": "python",
   "nbconvert_exporter": "python",
   "pygments_lexer": "ipython3",
   "version": "3.11.7"
  }
 },
 "nbformat": 4,
 "nbformat_minor": 2
}
