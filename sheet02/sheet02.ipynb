{
 "cells": [
  {
   "cell_type": "markdown",
   "metadata": {},
   "source": [
    "# Sheet 2"
   ]
  },
  {
   "cell_type": "code",
   "execution_count": 1,
   "metadata": {},
   "outputs": [],
   "source": [
    "import numpy as np\n",
    "from matplotlib import pyplot as plt\n",
    "from scipy.stats import gaussian_kde"
   ]
  },
  {
   "cell_type": "markdown",
   "metadata": {},
   "source": [
    "## 1 Kernel Density Estimation\n",
    "(a)"
   ]
  },
  {
   "cell_type": "code",
   "execution_count": 2,
   "metadata": {},
   "outputs": [],
   "source": [
    "def biweight(x, mu, w):\n",
    "    \"\"\"biweight kernel at mean mu, with bandwidth w evaluated at x\"\"\"\n",
    "    #TODO: implement the quartic (biweight) kernel\n"
   ]
  },
  {
   "cell_type": "code",
   "execution_count": null,
   "metadata": {},
   "outputs": [],
   "source": [
    "# TODO plot the kernel"
   ]
  },
  {
   "cell_type": "markdown",
   "metadata": {},
   "source": [
    "(b)"
   ]
  },
  {
   "cell_type": "code",
   "execution_count": null,
   "metadata": {},
   "outputs": [],
   "source": [
    "# load the data\n",
    "data = np.load(\"data/samples.npy\")\n",
    "data50 = data[:50]\n",
    "print(f'{data.shape=}, {data50.shape=}')"
   ]
  },
  {
   "cell_type": "code",
   "execution_count": 7,
   "metadata": {},
   "outputs": [],
   "source": [
    "def kde(x, obs, w=1):\n",
    "    # TODO: implement the KDE with the biweight kernel"
   ]
  },
  {
   "cell_type": "code",
   "execution_count": null,
   "metadata": {},
   "outputs": [],
   "source": [
    "# TODO: compute and plot the kde on the first 50 data points\n",
    "\n",
    "# TODO: explore what happens when you increase the number of points"
   ]
  },
  {
   "cell_type": "markdown",
   "metadata": {},
   "source": [
    "## 3 Mean-Shift\n",
    "(b)"
   ]
  },
  {
   "cell_type": "code",
   "execution_count": 9,
   "metadata": {},
   "outputs": [],
   "source": [
    "# TODO: implement the update to the local mean\n",
    "\n",
    "def mean_shift_step(x, xt, r=1):\n",
    "    \"\"\"\n",
    "    A single step of mean shift, moving every point in xt to the local mean of points in x within a radious of r.\n",
    "    \n",
    "    Parameters\n",
    "    ----------\n",
    "    x : np.ndarray\n",
    "        Array of points underlying the KDE, shape (d, N1)\n",
    "    xt : np.ndarray\n",
    "        Current state of the mean shift algorithm, shape (d, N2)\n",
    "    n_components : int, optional\n",
    "        Number of requested components. By default returns all components.\n",
    "        \n",
    "    Returns\n",
    "    -------\n",
    "    np.ndarray\n",
    "        the points after the mean-shift step\n",
    "    \"\"\"\n",
    "    # NOTE: For the excercise you only need to implement this for d == 1. \n",
    "    #       If you want some extra numpy-practice, implement it for arbitrary dimension\n",
    "    \n",
    "    assert xt.shape[0] == x.shape[0], f'Shape mismatch: {x.shape[0]}!={xt.shape[0]}'\n",
    "    \n",
    "    # TODO: start by computing a N by N matrix 'dist' of distances, \n",
    "    #       such that dists[i, j] is the distance between x[i] and xt[j]\n",
    "    \n",
    "    return local_means\n",
    "    "
   ]
  },
  {
   "cell_type": "code",
   "execution_count": null,
   "metadata": {},
   "outputs": [],
   "source": [
    "# load the data\n",
    "data = np.load(\"data/samples.npy\")\n",
    "x = data[:200]  # use e.g. the first 200 points\n",
    "xt = x\n",
    "\n",
    "trajectories = [xt]\n",
    "max_steps = 100\n",
    "for step in range(max_steps):\n",
    "    \n",
    "    # TODO: update xt with your mean shift step\n",
    "    \n",
    "    trajectories.append(xt)\n",
    "    if np.allclose(trajectories[-1], trajectories[-2]):  # break in case of convergence\n",
    "        break\n",
    "trajectories = np.stack(trajectories)\n",
    "n_steps = len(trajectories) - 1\n",
    "\n",
    "\n",
    "# TODO: plot the trajectories\n"
   ]
  },
  {
   "cell_type": "code",
   "execution_count": null,
   "metadata": {},
   "outputs": [],
   "source": [
    "# TODO: repeat the above for \"blurring\" mean shift"
   ]
  }
 ],
 "metadata": {
  "kernelspec": {
   "display_name": "Python 3",
   "language": "python",
   "name": "python3"
  },
  "language_info": {
   "codemirror_mode": {
    "name": "ipython",
    "version": 3
   },
   "file_extension": ".py",
   "mimetype": "text/x-python",
   "name": "python",
   "nbconvert_exporter": "python",
   "pygments_lexer": "ipython3",
   "version": "3.9.20"
  }
 },
 "nbformat": 4,
 "nbformat_minor": 2
}
