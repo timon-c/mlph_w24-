{
 "cells": [
  {
   "cell_type": "code",
   "execution_count": 1,
   "metadata": {},
   "outputs": [],
   "source": [
    "import numpy as np\n",
    "from matplotlib import pyplot as plt\n",
    "from sklearn.linear_model import LinearRegression"
   ]
  },
  {
   "cell_type": "markdown",
   "metadata": {},
   "source": [
    "## 3 Visualize Regularization Contours"
   ]
  },
  {
   "cell_type": "code",
   "execution_count": null,
   "metadata": {},
   "outputs": [],
   "source": [
    "# load the data\n",
    "data = np.load('data/linreg.npz')\n",
    "x = data['X']\n",
    "y = data['Y']\n",
    "print(f'x.shape: {x.shape}, \"y.shape:\" {y.shape}')\n",
    "plt.scatter(*x, c=y);\n",
    "plt.colorbar()\n",
    "plt.show()"
   ]
  },
  {
   "cell_type": "code",
   "execution_count": null,
   "metadata": {},
   "outputs": [],
   "source": [
    "# create a grid of points in the parameter space\n",
    "b1, b2 = np.linspace(-1, 3, 101), np.linspace(-1, 3, 101)\n",
    "bs = np.stack(np.meshgrid(b1, b2, indexing='ij'), axis=-1)\n",
    "bs.shape"
   ]
  },
  {
   "cell_type": "markdown",
   "metadata": {},
   "source": [
    "### (a)"
   ]
  },
  {
   "cell_type": "markdown",
   "metadata": {},
   "source": [
    "### (b)"
   ]
  },
  {
   "cell_type": "markdown",
   "metadata": {},
   "source": [
    "### (c)"
   ]
  },
  {
   "cell_type": "code",
   "execution_count": 4,
   "metadata": {},
   "outputs": [],
   "source": [
    "# TODO: for each lambda, plot both ridge regression and lasso loss functions\n",
    "lambdas = [0, 10, 50, 100, 200, 300]"
   ]
  },
  {
   "cell_type": "markdown",
   "metadata": {},
   "source": [
    "## 4 CT Reconstruction"
   ]
  },
  {
   "cell_type": "markdown",
   "metadata": {},
   "source": [
    "First, set up the design matrix. (Run this once to save it to the disk)"
   ]
  },
  {
   "cell_type": "code",
   "execution_count": null,
   "metadata": {},
   "outputs": [],
   "source": [
    "# create design matrix\n",
    "# don't change any of this, just run it once to create and save the design matrix\n",
    "import os\n",
    "\n",
    "n_parallel_rays = 70 \n",
    "n_ray_angles = 30\n",
    "res = (99, 117)\n",
    "print(\"Number of pixels in the 2d image:\", np.prod(res))\n",
    "print(\"Total number of rays:\", n_parallel_rays * n_ray_angles)\n",
    "\n",
    "def rot_mat(angle):\n",
    "    c, s = np.cos(angle), np.sin(angle)\n",
    "    return np.stack([np.stack([c, s], axis=-1), np.stack([-s, c], axis=-1)], axis=-1)\n",
    "\n",
    "kernel = lambda x: np.exp(-x**2/sigma**2/2)\n",
    "\n",
    "if not os.path.exists('data/design_matrix.npy'):\n",
    "    xs = np.arange(0, res[1]+1) - res[1]/2 # np.linspace(-1, 1, res[1] + 1)\n",
    "    ys = np.arange(0, res[0]+1) - res[0]/2 # np.linspace(-1, 1, res[0] + 1)\n",
    "\n",
    "    # rays are defined by origin and direction\n",
    "    ray_offset_range = [-res[1]/1.5, res[1]/1.5]\n",
    "    n_rays = n_parallel_rays * n_ray_angles\n",
    "\n",
    "    ray_angles = np.linspace(0, np.pi, n_ray_angles, endpoint=False) + np.pi/n_ray_angles\n",
    "\n",
    "    # offsets for ray_angle = 0, i.e. parallel to x-axis\n",
    "    ray_0_offsets = np.stack([np.zeros(n_parallel_rays), np.linspace(*ray_offset_range, n_parallel_rays)], axis=-1)\n",
    "    ray_0_directions = np.stack([np.ones(n_parallel_rays), np.zeros(n_parallel_rays)], axis=-1)\n",
    "\n",
    "    \n",
    "\n",
    "    ray_rot_mats = rot_mat(ray_angles)\n",
    "\n",
    "    ray_offsets = np.einsum('oi,aij->aoj', ray_0_offsets, ray_rot_mats).reshape(-1, 2)\n",
    "    ray_directions = np.einsum('oi,aij->aoj', ray_0_directions, ray_rot_mats).reshape(-1, 2)\n",
    "\n",
    "    sigma = 1\n",
    "    xsc = (xs[1:] + xs[:-1]) / 2\n",
    "    ysc = (ys[1:] + ys[:-1]) / 2\n",
    "    b = np.stack(np.meshgrid(xsc, ysc), axis=-1).reshape(-1, 2)\n",
    "    a = ray_offsets\n",
    "    v = ray_directions\n",
    "    v = v / np.linalg.norm(v, axis=-1, keepdims=True)\n",
    "    p = ((b[None] - a[:, None]) * v[:, None]).sum(-1, keepdims=True) * v[:, None] + a[:, None]\n",
    "    d = np.linalg.norm(b - p, axis=-1)\n",
    "    d = kernel(d)\n",
    "    design_matrix = d.T\n",
    "\n",
    "    np.save('data/design_matrix.npy', design_matrix)\n",
    "    print(f'created and saved design matrix of shape {design_matrix.shape} at data/design_matrix.npy')"
   ]
  },
  {
   "cell_type": "code",
   "execution_count": null,
   "metadata": {},
   "outputs": [],
   "source": [
    "sino = np.load('data/sino.npy')\n",
    "\n",
    "print(f'sino shape: {sino.shape}')\n",
    "\n",
    "# visualize sinogram as image\n",
    "n_parallel_rays = 70\n",
    "n_angles = 30\n",
    "plt.imshow(sino.reshape(n_angles, n_parallel_rays), origin='lower')\n",
    "# plt.colorbar()\n",
    "plt.xlabel('parallel rays')\n",
    "plt.ylabel('angles from 0 to 180 deg')\n",
    "plt.show();"
   ]
  },
  {
   "cell_type": "markdown",
   "metadata": {},
   "source": [
    "### (a)"
   ]
  },
  {
   "cell_type": "code",
   "execution_count": 7,
   "metadata": {},
   "outputs": [],
   "source": [
    "design_matrix = np.load('data/design_matrix.npy')\n",
    "\n",
    "# TODO: visualize four random columns as images, using an image shape of (99, 117)"
   ]
  },
  {
   "cell_type": "markdown",
   "metadata": {},
   "source": [
    "### (b)"
   ]
  },
  {
   "cell_type": "code",
   "execution_count": 8,
   "metadata": {},
   "outputs": [],
   "source": [
    "# TODO: visualize four random rows as images, using an images"
   ]
  },
  {
   "cell_type": "markdown",
   "metadata": {},
   "source": [
    "### (c)"
   ]
  },
  {
   "cell_type": "code",
   "execution_count": null,
   "metadata": {},
   "outputs": [],
   "source": [
    "# TODO: solve the reconstruction with linear regression and visualize the result"
   ]
  },
  {
   "cell_type": "code",
   "execution_count": 10,
   "metadata": {},
   "outputs": [],
   "source": [
    "# TODO: solve the reconstruction with ridge regression and visualize the result\n",
    "# Optional: try out different regularization strengths and oberve the influence\n",
    "from sklearn.linear_model import Ridge\n"
   ]
  },
  {
   "cell_type": "markdown",
   "metadata": {},
   "source": [
    "## 5 Bonus: X-Ray Free-Electron Lasers"
   ]
  },
  {
   "cell_type": "code",
   "execution_count": null,
   "metadata": {},
   "outputs": [],
   "source": [
    "sino = np.load('data/sino.npy').reshape(n_angles, n_parallel_rays)\n",
    "plt.imshow(sino)\n",
    "plt.title('original sinogram')\n",
    "plt.show()\n",
    "\n",
    "order = np.arange(n_angles)\n",
    "np.random.shuffle(order)\n",
    "sino_shuffled = sino[order]\n",
    "plt.imshow(sino_shuffled)\n",
    "plt.title('shuffled sinogram')\n",
    "plt.show()"
   ]
  }
 ],
 "metadata": {
  "kernelspec": {
   "display_name": "Python 3",
   "language": "python",
   "name": "python3"
  },
  "language_info": {
   "codemirror_mode": {
    "name": "ipython",
    "version": 3
   },
   "file_extension": ".py",
   "mimetype": "text/x-python",
   "name": "python",
   "nbconvert_exporter": "python",
   "pygments_lexer": "ipython3",
   "version": "3.9.20"
  }
 },
 "nbformat": 4,
 "nbformat_minor": 2
}
