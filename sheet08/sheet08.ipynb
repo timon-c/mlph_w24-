{
 "cells": [
  {
   "cell_type": "code",
   "execution_count": null,
   "metadata": {},
   "outputs": [],
   "source": [
    "import numpy as np\n",
    "import torch\n",
    "from matplotlib import pyplot as plt\n",
    "from torch.utils.data import TensorDataset, DataLoader\n",
    "import h5py"
   ]
  },
  {
   "cell_type": "markdown",
   "metadata": {},
   "source": [
    "## Task 1: CNNs for Galaxy Classification"
   ]
  },
  {
   "cell_type": "code",
   "execution_count": 2,
   "metadata": {},
   "outputs": [],
   "source": [
    "# create data folder if it does not exist\n",
    "import os\n",
    "os.makedirs(\"data\", exist_ok=True)\n",
    "\n",
    "import urllib.request\n",
    "_, msg = urllib.request.urlretrieve(\n",
    "    \"http://www.astro.utoronto.ca/~bovy/Galaxy10/Galaxy10.h5\", \n",
    "    \"data/Galaxy10.h5\"\n",
    ")"
   ]
  },
  {
   "cell_type": "code",
   "execution_count": null,
   "metadata": {},
   "outputs": [],
   "source": [
    "label_names = [\n",
    "    'Disk, Face-on, No Spiral',\n",
    "    'Smooth, Completely round',\n",
    "    'Smooth, in-between round',\n",
    "    'Smooth, Cigar shaped',\n",
    "    'Disk, Edge-on, Rounded Bulge',\n",
    "    'Disk, Edge-on, Boxy Bulge',\n",
    "    'Disk, Edge-on, No Bulge',\n",
    "    'Disk, Face-on, Tight Spiral',\n",
    "    'Disk, Face-on, Medium Spiral',\n",
    "    'Disk, Face-on, Loose Spiral'\n",
    "]\n",
    "n_classes = len(label_names)\n",
    "\n",
    "# To get the images and labels from file\n",
    "with h5py.File('data/Galaxy10.h5', 'r') as F:\n",
    "    images = np.array(F['images'])\n",
    "    labels = np.array(F['ans'])\n",
    "images = images.astype(np.float32)\n",
    "\n",
    "# comply to (batch, channel, height, width) convention of pytorch\n",
    "images = np.moveaxis(images, -1, 1)  \n",
    "# convert to torch\n",
    "images = torch.from_numpy(images)\n",
    "labels = torch.from_numpy(labels)\n",
    "\n",
    "print(f'{images.shape=}, {labels.shape=}')"
   ]
  },
  {
   "cell_type": "markdown",
   "metadata": {},
   "source": [
    "### (a)"
   ]
  },
  {
   "cell_type": "code",
   "execution_count": null,
   "metadata": {},
   "outputs": [],
   "source": [
    "# TODO: plot three samples of each class\n"
   ]
  },
  {
   "cell_type": "code",
   "execution_count": null,
   "metadata": {},
   "outputs": [],
   "source": [
    "from torchvision.transforms import Normalize\n",
    "\n",
    "# TODO: Split the data and normalize the images:\n",
    "\n",
    "# TODO:  Create tensordatasets and data loaders:"
   ]
  },
  {
   "cell_type": "markdown",
   "metadata": {},
   "source": [
    "### (b)"
   ]
  },
  {
   "cell_type": "code",
   "execution_count": 2,
   "metadata": {},
   "outputs": [],
   "source": [
    "#TODO: implement a small CNN as specified on the sheet\n",
    "from torch import nn\n",
    "\n",
    "class GalaxyCNN(nn.Module):\n",
    "    def __init__(self):\n",
    "        super().__init__()\n",
    "        ...\n",
    "\n",
    "    def forward(self, x):\n",
    "        ...\n",
    "        return x"
   ]
  },
  {
   "cell_type": "markdown",
   "metadata": {},
   "source": [
    "### "
   ]
  },
  {
   "cell_type": "markdown",
   "metadata": {},
   "source": [
    "### (c) + (d) + (e)"
   ]
  },
  {
   "cell_type": "code",
   "execution_count": null,
   "metadata": {
    "scrolled": false
   },
   "outputs": [],
   "source": [
    "# TODO: Instantiate the model, optimizer and criterion\n",
    "model = GalaxyCNN()\n",
    "\n",
    "# optimizer = ?\n",
    "# criterion = ?\n",
    "\n",
    "train_losses = []\n",
    "val_losses = []\n",
    "val_accs = []\n",
    "\n",
    "# TODO: Implement the training loop, validating after every epoch, and make the requested plots.\n",
    "\n",
    "def validate(model):\n",
    "    losses = []\n",
    "    correct = []\n",
    "\n",
    "    #TODO: Implement the validation loop\n",
    "    \n",
    "    avg_loss = np.mean(np.array(losses))\n",
    "    accuracy = np.mean(np.array(correct))\n",
    "    print(f'{accuracy=:.2f}, {avg_loss=:.2e}')\n",
    "    return avg_loss, accuracy\n",
    "\n",
    "val_loss, val_acc = validate(model)\n",
    "val_losses.append(val_loss)\n",
    "val_accs.append(val_acc)\n",
    "for epoch in range(30):\n",
    "    # TODO: Implement the training loop, validating after every epoch and a visialization of the loss curves\n",
    "    ..."
   ]
  },
  {
   "cell_type": "markdown",
   "metadata": {},
   "source": [
    "### (e) continued"
   ]
  },
  {
   "cell_type": "code",
   "execution_count": 6,
   "metadata": {},
   "outputs": [],
   "source": [
    "# TODO: Evaluate the best validation model on the test set and create a confusion matrix"
   ]
  },
  {
   "cell_type": "markdown",
   "metadata": {},
   "source": [
    "## 3 Positional Encoding"
   ]
  },
  {
   "cell_type": "markdown",
   "metadata": {},
   "source": [
    "$ E \\in \\mathbb{R}^{p\\times n} $\n",
    "\n",
    "$ E_{(2k), i} = \\sin\\left(i \\cdot \\exp\\left(-\\frac{2k \\cdot \\log(10000)}{p}\\right)\\right) $\n",
    "\n",
    "$ E_{(2k+1), i} = \\cos\\left(i \\cdot \\exp\\left(-\\frac{2k \\cdot \\log(10000)}{p}\\right)\\right) $"
   ]
  }
 ],
 "metadata": {
  "kernelspec": {
   "display_name": "Python 3",
   "language": "python",
   "name": "python3"
  },
  "language_info": {
   "codemirror_mode": {
    "name": "ipython",
    "version": 3
   },
   "file_extension": ".py",
   "mimetype": "text/x-python",
   "name": "python",
   "nbconvert_exporter": "python",
   "pygments_lexer": "ipython3",
   "version": "3.9.20"
  }
 },
 "nbformat": 4,
 "nbformat_minor": 2
}
